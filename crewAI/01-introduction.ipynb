{
 "cells": [
  {
   "cell_type": "markdown",
   "metadata": {},
   "source": [
    "### CrewAI Agents"
   ]
  },
  {
   "cell_type": "code",
   "execution_count": 1,
   "metadata": {},
   "outputs": [],
   "source": [
    "from crewai import Agent"
   ]
  },
  {
   "cell_type": "code",
   "execution_count": 2,
   "metadata": {},
   "outputs": [],
   "source": [
    "from IPython.display import Image, display, Markdown\n"
   ]
  },
  {
   "cell_type": "code",
   "execution_count": null,
   "metadata": {},
   "outputs": [],
   "source": [
    "# load dotenv\n",
    "import os\n",
    "from dotenv import load_dotenv\n",
    "\n",
    "load_dotenv()"
   ]
  },
  {
   "cell_type": "code",
   "execution_count": 4,
   "metadata": {},
   "outputs": [],
   "source": [
    "from crewai import LLM\n",
    "\n",
    "llm = LLM(\n",
    "    model='ollama/llama3.2:1b',\n",
    "    base_url='http://localhost:11434'\n",
    ")"
   ]
  },
  {
   "cell_type": "code",
   "execution_count": 5,
   "metadata": {},
   "outputs": [],
   "source": [
    "# defining the agents with \n",
    "# Role\n",
    "# Goal\n",
    "# Backstory\n",
    "\n",
    "senior_business_analyst = Agent(\n",
    "    role=\"Senior Business Analyst\",\n",
    "    goal=\"Analyze the sales data and provide insights\",\n",
    "    backstory=\"\"\"You are a senior business analyst with 10 years of experience in the field. \n",
    "                You are known for your attention to detail and your ability to provide accurate and actionable insights.\n",
    "                You are also known for your ability to work in a team and your communication skills.\"\"\",\n",
    "    verbose=True,\n",
    "    llm=llm\n",
    ")"
   ]
  },
  {
   "cell_type": "code",
   "execution_count": 6,
   "metadata": {},
   "outputs": [],
   "source": [
    "# defining the tasks for the agents\n",
    "# a task is a specific assignment given to an AI agent\n",
    "\n",
    "from crewai import Task\n",
    "\n",
    "data_analysis_task = Task(\n",
    "    description=\"\"\"Analyze the sales data of the {company_name} and provide insights. \n",
    "                Generate a technical report of the data.\"\"\",\n",
    "    agent=senior_business_analyst,\n",
    "    expected_output=\"\"\"A technical report of the sales data of the company.\"\"\"\n",
    ")\n"
   ]
  },
  {
   "cell_type": "code",
   "execution_count": null,
   "metadata": {},
   "outputs": [],
   "source": [
    "# creating Crew\n",
    "from crewai import Crew\n",
    "\n",
    "crew = Crew(\n",
    "    agents=[senior_business_analyst],\n",
    "    tasks=[data_analysis_task],\n",
    "    verbose=True\n",
    ")\n",
    "\n",
    "response = crew.kickoff(inputs={\"company_name\": \"Hindustan Unilever\"})"
   ]
  },
  {
   "cell_type": "code",
   "execution_count": null,
   "metadata": {},
   "outputs": [],
   "source": [
    "type(response)\n",
    "print(response)"
   ]
  },
  {
   "cell_type": "code",
   "execution_count": null,
   "metadata": {},
   "outputs": [],
   "source": [
    "Markdown(response.raw)\n"
   ]
  },
  {
   "cell_type": "code",
   "execution_count": null,
   "metadata": {},
   "outputs": [],
   "source": []
  }
 ],
 "metadata": {
  "kernelspec": {
   "display_name": "agents-venv",
   "language": "python",
   "name": "python3"
  },
  "language_info": {
   "codemirror_mode": {
    "name": "ipython",
    "version": 3
   },
   "file_extension": ".py",
   "mimetype": "text/x-python",
   "name": "python",
   "nbconvert_exporter": "python",
   "pygments_lexer": "ipython3",
   "version": "3.11.5"
  }
 },
 "nbformat": 4,
 "nbformat_minor": 2
}
